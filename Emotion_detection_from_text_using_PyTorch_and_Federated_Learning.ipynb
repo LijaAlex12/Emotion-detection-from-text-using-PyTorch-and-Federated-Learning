{
  "nbformat": 4,
  "nbformat_minor": 0,
  "metadata": {
    "colab": {
      "name": "Emotion detection from text using PyTorch and Federated Learning.ipynb",
      "version": "0.3.2",
      "provenance": [],
      "collapsed_sections": [],
      "include_colab_link": true
    },
    "kernelspec": {
      "name": "python3",
      "display_name": "Python 3"
    }
  },
  "cells": [
    {
      "cell_type": "markdown",
      "metadata": {
        "id": "view-in-github",
        "colab_type": "text"
      },
      "source": [
        "<a href=\"https://colab.research.google.com/github/karankishinani/Emotion-detection-from-text-using-PyTorch-and-Federated-Learning/blob/master/Emotion_detection_from_text_using_PyTorch_and_Federated_Learning.ipynb\" target=\"_parent\"><img src=\"https://colab.research.google.com/assets/colab-badge.svg\" alt=\"Open In Colab\"/></a>"
      ]
    },
    {
      "cell_type": "markdown",
      "metadata": {
        "id": "rufFNufqDmUO",
        "colab_type": "text"
      },
      "source": [
        "# Emotion detection from text using PyTorch and Federated Learning\n",
        "\n",
        "For this project, we are going to implement an NLP task of creating a model to detect the emotion from text. We will develop this using the PyTorch library and the Federated Learning framework for decentralized training. \n",
        "\n",
        "We will create an emotion detection for the following 5 emotions:\n",
        "\n",
        "| Emotion | Emoji   | Label   |\n",
        "|------|------|------|\n",
        "|Loving| ❤️| 0|\n",
        "|Playful| ⚽️| 1|\n",
        "|Happy| 😄| 2|\n",
        "|Annoyed| 😞| 3|\n",
        "|Foodie| 🍽| 4|\n",
        "\n",
        "## Dataset\n",
        "\n",
        "We will work with a dataset (X, Y) where we have:\n",
        "*   X contains 127 sentences\n",
        "*   Y contains a label between [0, 4] corresponding to the emotion\n",
        "\n",
        "For example:\n",
        "\n",
        "| Sentence | Emotion   |\n",
        "|----------|-----------|\n",
        "|food is life|  🍽 Foodie|\n",
        "|I love you mum|  ❤️ Loving|\n",
        "|Stop saying bullshit|  😞 Annoyed|\n",
        "|congratulations on your acceptance|  😄 Happy|\n",
        "|The assignment is too long|    😞 Annoyed|\n",
        "|I want to go play| ⚽️ Playful|\n",
        "|she did not answer my text| 😞 Annoyed|\n",
        "|Your stupidity has no limit| 😞 Annoyed|\n",
        "|how many points did he score|  ⚽️ Playful|\n",
        "|my algorithm performs poorly| 😞 Annoyed|\n",
        "|I got approved|  😄 Happy|\n",
        "\n",
        "## The Model\n",
        "We will build an LSTM model that takes as input word sequences that will take word ordering into account. We will use 50-dimensional [GloVe](https://nlp.stanford.edu/projects/glove/) pre-trained word embeddings to represent words. We will then feed those as an input into an LSTM that will predict the most appropiate emotion for the text. \n",
        "\n",
        "![alt text](https://drive.google.com/uc?id=1s-KYhU5JWF-jvAlZ2MIKKugxLLDdhpQP)\n"
      ]
    },
    {
      "cell_type": "code",
      "metadata": {
        "id": "GQn1wO2qr01C",
        "colab_type": "code",
        "colab": {}
      },
      "source": [
        "import numpy as np\n",
        "import pandas as pd\n",
        "import matplotlib.pyplot as plt\n",
        "import csv\n",
        "import torch\n",
        "import torch.nn as nn\n",
        "import torch.nn.functional as F\n",
        "import torch.optim as optim"
      ],
      "execution_count": 0,
      "outputs": []
    },
    {
      "cell_type": "code",
      "metadata": {
        "id": "zJcTk7DnfXRx",
        "colab_type": "code",
        "outputId": "e8eecf42-5cf3-4dc6-cf3e-8437e6f03f15",
        "colab": {
          "base_uri": "https://localhost:8080/",
          "height": 229
        }
      },
      "source": [
        "from google.colab import drive\n",
        "drive.mount('/content/drive')"
      ],
      "execution_count": 3,
      "outputs": [
        {
          "output_type": "stream",
          "text": [
            "Go to this URL in a browser: https://accounts.google.com/o/oauth2/auth?client_id=947318989803-6bn6qk8qdgf4n4g3pfee6491hc0brc4i.apps.googleusercontent.com&redirect_uri=urn%3Aietf%3Awg%3Aoauth%3A2.0%3Aoob&scope=email%20https%3A%2F%2Fwww.googleapis.com%2Fauth%2Fdocs.test%20https%3A%2F%2Fwww.googleapis.com%2Fauth%2Fdrive%20https%3A%2F%2Fwww.googleapis.com%2Fauth%2Fdrive.photos.readonly%20https%3A%2F%2Fwww.googleapis.com%2Fauth%2Fpeopleapi.readonly&response_type=code\n",
            "\n",
            "Enter your authorization code:\n",
            "··········\n",
            "Mounted at /content/drive\n"
          ],
          "name": "stdout"
        }
      ]
    },
    {
      "cell_type": "code",
      "metadata": {
        "id": "d04n5XXyf5Cj",
        "colab_type": "code",
        "colab": {}
      },
      "source": [
        "# HELPER FUNCTIONS\n",
        "\n",
        "def read_glove_vecs(glove_file):\n",
        "    with open(glove_file, 'r') as f:\n",
        "        words = set()\n",
        "        word_to_vec_map = {}\n",
        "        for line in f:\n",
        "            line = line.strip().split()\n",
        "            curr_word = line[0]\n",
        "            words.add(curr_word)\n",
        "            word_to_vec_map[curr_word] = np.array(line[1:], dtype=np.float64)\n",
        "        \n",
        "        i = 1\n",
        "        words_to_index = {}\n",
        "        index_to_words = {}\n",
        "        for w in sorted(words):\n",
        "            words_to_index[w] = i\n",
        "            index_to_words[i] = w\n",
        "            i = i + 1\n",
        "    return words_to_index, index_to_words, word_to_vec_map\n",
        "\n",
        "def convert_to_one_hot(Y, C):\n",
        "    Y = np.eye(C)[Y.reshape(-1)]\n",
        "    return Y\n",
        "\n",
        "def read_csv(filename):\n",
        "    phrase = []\n",
        "    emoji = []\n",
        "\n",
        "    with open (filename) as csvDataFile:\n",
        "        csvReader = csv.reader(csvDataFile)\n",
        "\n",
        "        for row in csvReader:\n",
        "            phrase.append(row[0])\n",
        "            emoji.append(row[1])\n",
        "\n",
        "    X = np.asarray(phrase)\n",
        "    Y = np.asarray(emoji, dtype=int)\n",
        "\n",
        "    return X, Y"
      ],
      "execution_count": 0,
      "outputs": []
    },
    {
      "cell_type": "code",
      "metadata": {
        "id": "RmqjSlwofS_i",
        "colab_type": "code",
        "colab": {}
      },
      "source": [
        "X_train, Y_train = read_csv('/content/drive/My Drive/Colab Notebooks/data/train_emoji.csv')\n",
        "X_test, Y_test = read_csv('/content/drive/My Drive/Colab Notebooks/data/tesss.csv')"
      ],
      "execution_count": 0,
      "outputs": []
    },
    {
      "cell_type": "code",
      "metadata": {
        "id": "Gt5z5eqVih4i",
        "colab_type": "code",
        "colab": {}
      },
      "source": [
        "Y_oh_train = convert_to_one_hot(Y_train, C = 5)\n",
        "Y_oh_test = convert_to_one_hot(Y_test, C = 5)"
      ],
      "execution_count": 0,
      "outputs": []
    },
    {
      "cell_type": "code",
      "metadata": {
        "id": "jDe5vX3qiYcB",
        "colab_type": "code",
        "colab": {}
      },
      "source": [
        "word_to_index, index_to_word, word_to_vec_map = read_glove_vecs('/content/drive/My Drive/Colab Notebooks/data/glove.6B.50d.txt')"
      ],
      "execution_count": 0,
      "outputs": []
    },
    {
      "cell_type": "code",
      "metadata": {
        "id": "fh0iyxn_jDCR",
        "colab_type": "code",
        "colab": {}
      },
      "source": [
        "def sentences_to_indices(X, word_to_index, max_len):\n",
        "    \"\"\"\n",
        "    Converts an array of sentences (strings) into an array of indices corresponding to words in the sentences.\n",
        "    \"\"\"\n",
        "    \n",
        "    m = X.shape[0]  # number of training examples\n",
        "    \n",
        "    # Initialize X_indices as a numpy matrix of zeros and the correct shape\n",
        "    X_indices = np.zeros((m,max_len))\n",
        "    \n",
        "    for i in range(m):  # loop over training examples\n",
        "        \n",
        "        # Convert the ith sentence in lower case and split into a list of words\n",
        "        sentence_words = X[i].lower().split()\n",
        "        \n",
        "        # Initialize j to 0\n",
        "        j = 0\n",
        "        \n",
        "        # Loop over the words of sentence_words\n",
        "        for w in sentence_words:\n",
        "            # Set the (i,j)th entry of X_indices to the index of the correct word.\n",
        "            X_indices[i, j] = word_to_index[w]\n",
        "            # Increment j to j + 1\n",
        "            j = j + 1\n",
        "    \n",
        "    return X_indices"
      ],
      "execution_count": 0,
      "outputs": []
    },
    {
      "cell_type": "code",
      "metadata": {
        "id": "LLyIs_aFjdfl",
        "colab_type": "code",
        "outputId": "7bd905b5-a390-44b7-a31e-c68f9e9f6d03",
        "colab": {
          "base_uri": "https://localhost:8080/",
          "height": 85
        }
      },
      "source": [
        "X1 = np.array([\"lol\", \"I love you\", \"this is very yummy\"])\n",
        "X1_indices = sentences_to_indices(X1,word_to_index, max_len = 5)\n",
        "print(\"X1 =\", X1)\n",
        "print(\"X1_indices =\", X1_indices)"
      ],
      "execution_count": 9,
      "outputs": [
        {
          "output_type": "stream",
          "text": [
            "X1 = ['lol' 'I love you' 'this is very yummy']\n",
            "X1_indices = [[225122.      0.      0.      0.      0.]\n",
            " [185457. 226278. 394475.      0.      0.]\n",
            " [358160. 192973. 377946. 394957.      0.]]\n"
          ],
          "name": "stdout"
        }
      ]
    },
    {
      "cell_type": "code",
      "metadata": {
        "id": "gx57hw8Pjg3q",
        "colab_type": "code",
        "colab": {}
      },
      "source": [
        ""
      ],
      "execution_count": 0,
      "outputs": []
    },
    {
      "cell_type": "markdown",
      "metadata": {
        "id": "UMKHhghrWcNn",
        "colab_type": "text"
      },
      "source": [
        "## Creating a Network using Pretrained Embedding Layer using GloVe Word Embeddings"
      ]
    },
    {
      "cell_type": "code",
      "metadata": {
        "id": "JZDWRfRkWhwB",
        "colab_type": "code",
        "colab": {}
      },
      "source": [
        "def pretrained_embedding_layer(word_to_vec_map, word_to_index, non_trainable=True):\n",
        "    num_embeddings = len(word_to_index) + 1                   \n",
        "    embedding_dim = word_to_vec_map[\"cucumber\"].shape[0]  #  dimensionality of GloVe word vectors (= 50)\n",
        "\n",
        "    # Initialize the embedding matrix as a numpy array of zeros of shape (num_embeddings, embedding_dim)\n",
        "    weights_matrix = np.zeros((num_embeddings, embedding_dim))\n",
        "\n",
        "    # Set each row \"index\" of the embedding matrix to be the word vector representation of the \"index\"th word of the vocabulary\n",
        "    for word, index in word_to_index.items():\n",
        "        weights_matrix[index, :] = word_to_vec_map[word]\n",
        "\n",
        "    emb_layer = nn.Embedding.from_pretrained(torch.tensor(weights_matrix).type(torch.FloatTensor))\n",
        "\n",
        "    if non_trainable:\n",
        "        emb_layer.weight.requires_grad = False\n",
        "\n",
        "    return emb_layer, num_embeddings, embedding_dim\n",
        "\n",
        "class NN(nn.Module):\n",
        "    def __init__(self, word_to_vec_map, word_to_index):\n",
        "        super(NN, self).__init__()\n",
        "        \n",
        "        self.embedding, embed_size, embedding_dim = pretrained_embedding_layer(word_to_vec_map, word_to_index, True)\n",
        "        self.hidden_size = 128\n",
        "        self.num_layers = 2\n",
        "        self.output_size = 5\n",
        "        self.lstm = nn.LSTM(input_size=embedding_dim, hidden_size=self.hidden_size, num_layers=self.num_layers,\n",
        "                                batch_first=True, dropout=0.5)\n",
        "        self.fc1 = nn.Linear(self.hidden_size, self.output_size)\n",
        "        \n",
        "    def forward(self, sentence):\n",
        "        x = self.embedding(sentence.type(torch.LongTensor))\n",
        "        x, _ = self.lstm(x)\n",
        "        x = F.dropout(x, 0.5)\n",
        "        x = self.fc1(x)\n",
        "        x = F.softmax(x)\n",
        "        return x\n",
        "  "
      ],
      "execution_count": 0,
      "outputs": []
    },
    {
      "cell_type": "code",
      "metadata": {
        "id": "BEkK7S6v8dVk",
        "colab_type": "code",
        "colab": {}
      },
      "source": [
        "device = torch.device(\"cuda:0\" if torch.cuda.is_available() else \"cpu\")\n",
        "\n",
        "def train(model, trainloader, criterion, optimizer, epochs=10):\n",
        "    \n",
        "    model.to(device)\n",
        "    running_loss = 0\n",
        "    \n",
        "    for e in range(epochs):\n",
        "        \n",
        "        model.train()\n",
        "        \n",
        "        for images, labels in trainloader:\n",
        "            images, labels = images.to(device), labels.to(device)\n",
        "\n",
        "            # 1) erase previous gradients (if they exist)\n",
        "            optimizer.zero_grad()\n",
        "\n",
        "            # 2) make a prediction\n",
        "            pred = model.forward(images)\n",
        "\n",
        "            # 3) calculate how much we missed\n",
        "            loss = criterion(pred, labels)\n",
        "\n",
        "            # 4) figure out which weights caused us to miss\n",
        "            loss.backward()\n",
        "\n",
        "            # 5) change those weights\n",
        "            optimizer.step()\n",
        "\n",
        "            # 6) log our progress\n",
        "            running_loss += loss.item()\n",
        "\n"
      ],
      "execution_count": 0,
      "outputs": []
    },
    {
      "cell_type": "code",
      "metadata": {
        "id": "Fgb8si4s9Jb9",
        "colab_type": "code",
        "outputId": "340c82d2-68a3-490b-a6b6-e8779bbf6f6a",
        "colab": {
          "base_uri": "https://localhost:8080/",
          "height": 134
        }
      },
      "source": [
        "import torch.utils.data\n",
        "\n",
        "maxLen = len(max(X_train, key=len).split())\n",
        "X_train_indices = sentences_to_indices(X_train, word_to_index, maxLen)\n",
        "Y_train_oh = convert_to_one_hot(Y_train, C = 5)\n",
        "\n",
        "X_test_indices = sentences_to_indices(X_test, word_to_index, maxLen)\n",
        "Y_test_oh = convert_to_one_hot(Y_test, C = 5)\n",
        "\n",
        "model = NN(word_to_vec_map, word_to_index)\n",
        "criterion = nn.CrossEntropyLoss()\n",
        "optimizer = optim.Adam(model.parameters(), lr=0.002)\n",
        "epochs = 50\n",
        "batch_size = 32\n",
        "train_dataset = torch.utils.data.TensorDataset(torch.tensor(X_train_indices), torch.tensor(Y_train_oh).type(torch.LongTensor))\n",
        "train_loader = torch.utils.data.DataLoader(train_dataset, batch_size=batch_size)\n",
        "\n",
        "test_dataset = torch.utils.data.TensorDataset(torch.tensor(X_test_indices), torch.tensor(Y_test_oh).type(torch.LongTensor))\n",
        "test_loader = torch.utils.data.DataLoader(test_dataset, batch_size=batch_size)\n",
        "\n",
        "train(model, train_loader, criterion, optimizer, epochs)"
      ],
      "execution_count": 12,
      "outputs": [
        {
          "output_type": "stream",
          "text": [
            "/usr/local/lib/python3.6/dist-packages/ipykernel_launcher.py:36: UserWarning: Implicit dimension choice for softmax has been deprecated. Change the call to include dim=X as an argument.\n"
          ],
          "name": "stderr"
        }
      ]
    },
    {
      "cell_type": "code",
      "metadata": {
        "id": "Vo9z4JBWARDf",
        "colab_type": "code",
        "outputId": "715f65e7-9ef6-4ed4-c422-81369c9e5034",
        "colab": {
          "base_uri": "https://localhost:8080/",
          "height": 131
        }
      },
      "source": [
        "test_loss = 0\n",
        "accuracy = 0\n",
        "model.eval()\n",
        "with torch.no_grad():\n",
        "    for images, labels in test_loader:\n",
        "        images, labels = images.to(device), labels.to(device)\n",
        "        ps = model(images)\n",
        "        test_loss += criterion(ps, labels).item()\n",
        "\n",
        "        # Accuracy\n",
        "        top_p, top_class = ps.topk(1, dim=1)\n",
        "        equals = top_class == labels.view(*top_class.shape)\n",
        "        accuracy += torch.mean(equals.type(torch.FloatTensor))\n",
        "model.train()\n",
        "print(\"Test Loss: {:.3f}.. \".format(test_loss/len(test_loader)),\n",
        "      \"Test Accuracy: {:.3f}\".format(accuracy/len(test_loader)))\n",
        "running_loss = 0"
      ],
      "execution_count": 13,
      "outputs": [
        {
          "output_type": "stream",
          "text": [
            "Test Loss: 2.292..  Test Accuracy: 0.243\n"
          ],
          "name": "stdout"
        },
        {
          "output_type": "stream",
          "text": [
            "/usr/local/lib/python3.6/dist-packages/ipykernel_launcher.py:36: UserWarning: Implicit dimension choice for softmax has been deprecated. Change the call to include dim=X as an argument.\n"
          ],
          "name": "stderr"
        }
      ]
    },
    {
      "cell_type": "markdown",
      "metadata": {
        "id": "eK2D5QhVcSvl",
        "colab_type": "text"
      },
      "source": [
        "## Implementing the model using Keras\n"
      ]
    },
    {
      "cell_type": "code",
      "metadata": {
        "id": "tZ1dFM7UG4lN",
        "colab_type": "code",
        "colab": {}
      },
      "source": [
        "import numpy as np\n",
        "np.random.seed(0)\n",
        "from keras.models import Model\n",
        "from keras.layers import Dense, Input, Dropout, LSTM, Activation\n",
        "from keras.layers.embeddings import Embedding\n",
        "from keras.preprocessing import sequence\n",
        "from keras.initializers import glorot_uniform\n",
        "np.random.seed(1)"
      ],
      "execution_count": 0,
      "outputs": []
    },
    {
      "cell_type": "code",
      "metadata": {
        "id": "Xzhm1-Gkcd13",
        "colab_type": "code",
        "colab": {}
      },
      "source": [
        "#Embedding Layer\n",
        "vocab_len = len(word_to_index) + 1                  # adding 1 to fit Keras embedding (requirement)\n",
        "emb_dim = word_to_vec_map[\"cucumber\"].shape[0]      # define dimensionality of your GloVe word vectors (= 50)\n",
        "\n",
        "\n",
        "# Initialize the embedding matrix as a numpy array of zeros of shape (vocab_len, dimensions of word vectors = emb_dim)\n",
        "emb_matrix = np.zeros((vocab_len, emb_dim))\n",
        "\n",
        "# Set each row \"index\" of the embedding matrix to be the word vector representation of the \"index\"th word of the vocabulary\n",
        "for word, index in word_to_index.items():\n",
        "    emb_matrix[index, :] = word_to_vec_map[word]\n",
        "\n",
        "# Define Keras embedding layer with the correct output/input sizes, make it trainable. Use Embedding(...). Make sure to set trainable=False. \n",
        "embedding_layer = Embedding(vocab_len ,emb_dim,trainable = False)\n",
        "Embedding(1000, 64, input_length=emb_dim)\n",
        "\n",
        "\n",
        "# Build the embedding layer, it is required before setting the weights of the embedding layer. Do not modify the \"None\".\n",
        "embedding_layer.build((None,))\n",
        "\n",
        "# Set the weights of the embedding layer to the embedding matrix. Your layer is now pretrained.\n",
        "embedding_layer.set_weights([emb_matrix])"
      ],
      "execution_count": 0,
      "outputs": []
    },
    {
      "cell_type": "code",
      "metadata": {
        "id": "4Tt0yFSzUMoZ",
        "colab_type": "code",
        "colab": {
          "base_uri": "https://localhost:8080/",
          "height": 168
        },
        "outputId": "8ea61b2a-1db3-47ee-897e-c59edf167bfa"
      },
      "source": [
        "input_shape = (maxLen,)\n",
        "\n",
        "# Define sentence_indices as the input of the graph, it should be of shape input_shape and dtype 'int32' (as it contains indices).\n",
        "sentence_indices = Input(shape=input_shape, dtype='int32')\n",
        "\n",
        "# Create the embedding layer pretrained with GloVe Vectors (≈1 line)\n",
        "#embedding_layer = pretrained_embedding_layer(word_to_vec_map, word_to_index)\n",
        "\n",
        "# Propagate sentence_indices through your embedding layer, you get back the embeddings\n",
        "embeddings = embedding_layer(sentence_indices)   \n",
        "\n",
        "# Propagate the embeddings through an LSTM layer with 128-dimensional hidden state\n",
        "# Be careful, the returned output should be a batch of sequences.\n",
        "X = LSTM(128, return_sequences=True)(embeddings)\n",
        "# Add dropout with a probability of 0.5\n",
        "X =  Dropout(0.5)(X)\n",
        "# Propagate X trough another LSTM layer with 128-dimensional hidden state\n",
        "# Be careful, the returned output should be a single hidden state, not a batch of sequences.\n",
        "X = LSTM(128, return_sequences=False)(embeddings)\n",
        "# Add dropout with a probability of 0.5\n",
        "X =  Dropout(0.5)(X)\n",
        "# Propagate X through a Dense layer with softmax activation to get back a batch of 5-dimensional vectors.\n",
        "X = Dense(5)(X)\n",
        "# Add a softmax activation\n",
        "X = Activation(activation=\"softmax\")(X)\n",
        "\n",
        "# Create Model instance which converts sentence_indices into X.\n",
        "model = Model(inputs=sentence_indices, outputs=X)"
      ],
      "execution_count": 20,
      "outputs": [
        {
          "output_type": "stream",
          "text": [
            "W0801 18:22:04.949173 139722479945600 deprecation.py:506] From /usr/local/lib/python3.6/dist-packages/keras/backend/tensorflow_backend.py:3445: calling dropout (from tensorflow.python.ops.nn_ops) with keep_prob is deprecated and will be removed in a future version.\n",
            "Instructions for updating:\n",
            "Please use `rate` instead of `keep_prob`. Rate should be set to `rate = 1 - keep_prob`.\n"
          ],
          "name": "stderr"
        }
      ]
    },
    {
      "cell_type": "code",
      "metadata": {
        "id": "KDy1TIaDZ6oF",
        "colab_type": "code",
        "colab": {
          "base_uri": "https://localhost:8080/",
          "height": 340
        },
        "outputId": "ead1f382-5126-4845-b4fe-43960177ee15"
      },
      "source": [
        "model.summary()"
      ],
      "execution_count": 21,
      "outputs": [
        {
          "output_type": "stream",
          "text": [
            "_________________________________________________________________\n",
            "Layer (type)                 Output Shape              Param #   \n",
            "=================================================================\n",
            "input_3 (InputLayer)         (None, 10)                0         \n",
            "_________________________________________________________________\n",
            "embedding_3 (Embedding)      (None, 10, 50)            20000050  \n",
            "_________________________________________________________________\n",
            "lstm_2 (LSTM)                (None, 128)               91648     \n",
            "_________________________________________________________________\n",
            "dropout_2 (Dropout)          (None, 128)               0         \n",
            "_________________________________________________________________\n",
            "dense_1 (Dense)              (None, 5)                 645       \n",
            "_________________________________________________________________\n",
            "activation_1 (Activation)    (None, 5)                 0         \n",
            "=================================================================\n",
            "Total params: 20,092,343\n",
            "Trainable params: 92,293\n",
            "Non-trainable params: 20,000,050\n",
            "_________________________________________________________________\n"
          ],
          "name": "stdout"
        }
      ]
    },
    {
      "cell_type": "code",
      "metadata": {
        "id": "uQ01cWAFa2yP",
        "colab_type": "code",
        "colab": {
          "base_uri": "https://localhost:8080/",
          "height": 71
        },
        "outputId": "fe650764-6506-4f35-9a3a-7a72e7051ff1"
      },
      "source": [
        "model.compile(loss='categorical_crossentropy', optimizer='adam', metrics=['accuracy'])"
      ],
      "execution_count": 22,
      "outputs": [
        {
          "output_type": "stream",
          "text": [
            "W0801 18:22:49.410868 139722479945600 deprecation_wrapper.py:119] From /usr/local/lib/python3.6/dist-packages/keras/optimizers.py:790: The name tf.train.Optimizer is deprecated. Please use tf.compat.v1.train.Optimizer instead.\n",
            "\n"
          ],
          "name": "stderr"
        }
      ]
    },
    {
      "cell_type": "code",
      "metadata": {
        "id": "XiLCA6vxa5W_",
        "colab_type": "code",
        "colab": {
          "base_uri": "https://localhost:8080/",
          "height": 1000
        },
        "outputId": "0037fbee-355e-4e96-b8fa-7334c7f1986d"
      },
      "source": [
        "model.fit(X_train_indices, Y_train_oh, epochs = 50, batch_size = 32, shuffle=True)"
      ],
      "execution_count": 23,
      "outputs": [
        {
          "output_type": "stream",
          "text": [
            "W0801 18:23:02.033179 139722479945600 deprecation.py:323] From /usr/local/lib/python3.6/dist-packages/tensorflow/python/ops/math_grad.py:1250: add_dispatch_support.<locals>.wrapper (from tensorflow.python.ops.array_ops) is deprecated and will be removed in a future version.\n",
            "Instructions for updating:\n",
            "Use tf.where in 2.0, which has the same broadcast rule as np.where\n"
          ],
          "name": "stderr"
        },
        {
          "output_type": "stream",
          "text": [
            "Epoch 1/50\n",
            "132/132 [==============================] - 1s 10ms/step - loss: 1.5826 - acc: 0.2045\n",
            "Epoch 2/50\n",
            "132/132 [==============================] - 0s 723us/step - loss: 1.5320 - acc: 0.2803\n",
            "Epoch 3/50\n",
            "132/132 [==============================] - 0s 845us/step - loss: 1.4891 - acc: 0.3409\n",
            "Epoch 4/50\n",
            "132/132 [==============================] - 0s 719us/step - loss: 1.4576 - acc: 0.3939\n",
            "Epoch 5/50\n",
            "132/132 [==============================] - 0s 798us/step - loss: 1.3971 - acc: 0.4318\n",
            "Epoch 6/50\n",
            "132/132 [==============================] - 0s 719us/step - loss: 1.3160 - acc: 0.4848\n",
            "Epoch 7/50\n",
            "132/132 [==============================] - 0s 867us/step - loss: 1.1826 - acc: 0.6894\n",
            "Epoch 8/50\n",
            "132/132 [==============================] - 0s 711us/step - loss: 1.0378 - acc: 0.6894\n",
            "Epoch 9/50\n",
            "132/132 [==============================] - 0s 706us/step - loss: 0.9882 - acc: 0.6591\n",
            "Epoch 10/50\n",
            "132/132 [==============================] - 0s 764us/step - loss: 0.8909 - acc: 0.6894\n",
            "Epoch 11/50\n",
            "132/132 [==============================] - 0s 685us/step - loss: 0.7674 - acc: 0.7197\n",
            "Epoch 12/50\n",
            "132/132 [==============================] - 0s 694us/step - loss: 0.7383 - acc: 0.7197\n",
            "Epoch 13/50\n",
            "132/132 [==============================] - 0s 631us/step - loss: 0.6775 - acc: 0.7348\n",
            "Epoch 14/50\n",
            "132/132 [==============================] - 0s 715us/step - loss: 0.5327 - acc: 0.8030\n",
            "Epoch 15/50\n",
            "132/132 [==============================] - 0s 651us/step - loss: 0.5592 - acc: 0.7803\n",
            "Epoch 16/50\n",
            "132/132 [==============================] - 0s 729us/step - loss: 0.4446 - acc: 0.8106\n",
            "Epoch 17/50\n",
            "132/132 [==============================] - 0s 631us/step - loss: 0.3742 - acc: 0.8485\n",
            "Epoch 18/50\n",
            "132/132 [==============================] - 0s 648us/step - loss: 0.4199 - acc: 0.8333\n",
            "Epoch 19/50\n",
            "132/132 [==============================] - 0s 727us/step - loss: 0.3657 - acc: 0.8788\n",
            "Epoch 20/50\n",
            "132/132 [==============================] - 0s 622us/step - loss: 0.3365 - acc: 0.8939\n",
            "Epoch 21/50\n",
            "132/132 [==============================] - 0s 723us/step - loss: 0.2962 - acc: 0.9091\n",
            "Epoch 22/50\n",
            "132/132 [==============================] - 0s 664us/step - loss: 0.2386 - acc: 0.9015\n",
            "Epoch 23/50\n",
            "132/132 [==============================] - 0s 653us/step - loss: 0.2218 - acc: 0.9394\n",
            "Epoch 24/50\n",
            "132/132 [==============================] - 0s 695us/step - loss: 0.1774 - acc: 0.9470\n",
            "Epoch 25/50\n",
            "132/132 [==============================] - 0s 659us/step - loss: 0.1822 - acc: 0.9318\n",
            "Epoch 26/50\n",
            "132/132 [==============================] - 0s 676us/step - loss: 0.1829 - acc: 0.9318\n",
            "Epoch 27/50\n",
            "132/132 [==============================] - 0s 618us/step - loss: 0.1453 - acc: 0.9545\n",
            "Epoch 28/50\n",
            "132/132 [==============================] - 0s 682us/step - loss: 0.1082 - acc: 0.9621\n",
            "Epoch 29/50\n",
            "132/132 [==============================] - 0s 603us/step - loss: 0.1388 - acc: 0.9697\n",
            "Epoch 30/50\n",
            "132/132 [==============================] - 0s 666us/step - loss: 0.1942 - acc: 0.9621\n",
            "Epoch 31/50\n",
            "132/132 [==============================] - 0s 626us/step - loss: 0.1973 - acc: 0.9470\n",
            "Epoch 32/50\n",
            "132/132 [==============================] - 0s 660us/step - loss: 0.1913 - acc: 0.9242\n",
            "Epoch 33/50\n",
            "132/132 [==============================] - 0s 711us/step - loss: 0.1423 - acc: 0.9470\n",
            "Epoch 34/50\n",
            "132/132 [==============================] - 0s 691us/step - loss: 0.3021 - acc: 0.9015\n",
            "Epoch 35/50\n",
            "132/132 [==============================] - 0s 712us/step - loss: 0.2994 - acc: 0.8939\n",
            "Epoch 36/50\n",
            "132/132 [==============================] - 0s 686us/step - loss: 0.2686 - acc: 0.9091\n",
            "Epoch 37/50\n",
            "132/132 [==============================] - 0s 629us/step - loss: 0.6342 - acc: 0.8258\n",
            "Epoch 38/50\n",
            "132/132 [==============================] - 0s 734us/step - loss: 0.3575 - acc: 0.8712\n",
            "Epoch 39/50\n",
            "132/132 [==============================] - 0s 610us/step - loss: 0.2525 - acc: 0.9470\n",
            "Epoch 40/50\n",
            "132/132 [==============================] - 0s 658us/step - loss: 0.2669 - acc: 0.9394\n",
            "Epoch 41/50\n",
            "132/132 [==============================] - 0s 690us/step - loss: 0.2417 - acc: 0.9167\n",
            "Epoch 42/50\n",
            "132/132 [==============================] - 0s 702us/step - loss: 0.1626 - acc: 0.9394\n",
            "Epoch 43/50\n",
            "132/132 [==============================] - 0s 653us/step - loss: 0.1577 - acc: 0.9697\n",
            "Epoch 44/50\n",
            "132/132 [==============================] - 0s 656us/step - loss: 0.1116 - acc: 0.9697\n",
            "Epoch 45/50\n",
            "132/132 [==============================] - 0s 677us/step - loss: 0.0790 - acc: 0.9848\n",
            "Epoch 46/50\n",
            "132/132 [==============================] - 0s 675us/step - loss: 0.0685 - acc: 0.9848\n",
            "Epoch 47/50\n",
            "132/132 [==============================] - 0s 654us/step - loss: 0.0393 - acc: 1.0000\n",
            "Epoch 48/50\n",
            "132/132 [==============================] - 0s 688us/step - loss: 0.0410 - acc: 1.0000\n",
            "Epoch 49/50\n",
            "132/132 [==============================] - 0s 665us/step - loss: 0.0360 - acc: 1.0000\n",
            "Epoch 50/50\n",
            "132/132 [==============================] - 0s 725us/step - loss: 0.0269 - acc: 1.0000\n"
          ],
          "name": "stdout"
        },
        {
          "output_type": "execute_result",
          "data": {
            "text/plain": [
              "<keras.callbacks.History at 0x7f1323313ba8>"
            ]
          },
          "metadata": {
            "tags": []
          },
          "execution_count": 23
        }
      ]
    },
    {
      "cell_type": "code",
      "metadata": {
        "id": "rufzBTvUa8Z3",
        "colab_type": "code",
        "colab": {
          "base_uri": "https://localhost:8080/",
          "height": 68
        },
        "outputId": "da2b8c3a-2124-4fd7-e21b-2db4586c5597"
      },
      "source": [
        "loss, acc = model.evaluate(X_test_indices, Y_test_oh)\n",
        "print()\n",
        "print(\"Test accuracy = \", acc)"
      ],
      "execution_count": 24,
      "outputs": [
        {
          "output_type": "stream",
          "text": [
            "56/56 [==============================] - 0s 3ms/step\n",
            "\n",
            "Test accuracy =  0.839285705770765\n"
          ],
          "name": "stdout"
        }
      ]
    },
    {
      "cell_type": "code",
      "metadata": {
        "id": "H2jOBrsPbDAk",
        "colab_type": "code",
        "colab": {}
      },
      "source": [
        ""
      ],
      "execution_count": 0,
      "outputs": []
    }
  ]
}