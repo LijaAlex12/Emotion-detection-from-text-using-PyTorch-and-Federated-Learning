{
  "nbformat": 4,
  "nbformat_minor": 0,
  "metadata": {
    "accelerator": "GPU",
    "colab": {
      "name": "Emotion Detection - PyTorch.ipynb",
      "version": "0.3.2",
      "provenance": [],
      "collapsed_sections": []
    },
    "kernelspec": {
      "name": "python3",
      "display_name": "Python 3"
    },
    "language_info": {
      "codemirror_mode": {
        "name": "ipython",
        "version": 3
      },
      "file_extension": ".py",
      "mimetype": "text/x-python",
      "name": "python",
      "nbconvert_exporter": "python",
      "pygments_lexer": "ipython3",
      "version": "3.7.1"
    }
  },
  "cells": [
    {
      "cell_type": "code",
      "metadata": {
        "colab_type": "code",
        "id": "oZTixQJXSZJb",
        "colab": {}
      },
      "source": [
        "import csv\n",
        "import torch\n",
        "import numpy as np\n",
        "import torchvision\n",
        "import pandas as pd\n",
        "import torch.nn as nn\n",
        "import torch.optim as optim\n",
        "import matplotlib.pyplot as plt\n",
        "import torch.nn.functional as F"
      ],
      "execution_count": 0,
      "outputs": []
    },
    {
      "cell_type": "code",
      "metadata": {
        "colab_type": "code",
        "id": "FkfgAsDZTrrl",
        "outputId": "1a46ecbc-6749-443d-a7d1-20a9f5a03640",
        "colab": {
          "base_uri": "https://localhost:8080/",
          "height": 34
        }
      },
      "source": [
        "from google.colab import drive\n",
        "drive.mount('/content/drive')"
      ],
      "execution_count": 2,
      "outputs": [
        {
          "output_type": "stream",
          "text": [
            "Drive already mounted at /content/drive; to attempt to forcibly remount, call drive.mount(\"/content/drive\", force_remount=True).\n"
          ],
          "name": "stdout"
        }
      ]
    },
    {
      "cell_type": "code",
      "metadata": {
        "colab_type": "code",
        "id": "YsIlgQ_uTada",
        "colab": {}
      },
      "source": [
        "def read_glove_vecs(glove_file):\n",
        "    with open(glove_file, 'r') as f:\n",
        "        words = set()\n",
        "        word_to_vec_map = {}\n",
        "        for line in f:\n",
        "            line = line.strip().split()\n",
        "            curr_word = line[0]\n",
        "            words.add(curr_word)\n",
        "            word_to_vec_map[curr_word] = np.array(line[1:], dtype=np.float64)\n",
        "\n",
        "        i = 1\n",
        "        words_to_index = {}\n",
        "        index_to_words = {}\n",
        "        for w in sorted(words):\n",
        "            words_to_index[w] = i\n",
        "            index_to_words[i] = w\n",
        "            i = i + 1\n",
        "    return words_to_index, index_to_words, word_to_vec_map\n",
        "\n",
        "\n",
        "def read_csv(filename):\n",
        "    phrase = []\n",
        "    label = []\n",
        "\n",
        "    with open(filename) as csvDataFile:\n",
        "        csvReader = csv.reader(csvDataFile)\n",
        "\n",
        "        for row in csvReader:\n",
        "            phrase.append(row[0])\n",
        "            label.append(row[1])\n",
        "\n",
        "    X = np.asarray(phrase)\n",
        "    Y = np.asarray(label, dtype=int)\n",
        "\n",
        "    return X, Y\n",
        "\n",
        "\n",
        "def convert_to_one_hot(Y, C):\n",
        "    Y = np.eye(C)[Y.reshape(-1)]\n",
        "    return Y"
      ],
      "execution_count": 0,
      "outputs": []
    },
    {
      "cell_type": "code",
      "metadata": {
        "colab_type": "code",
        "id": "M-xtHsP6TimU",
        "colab": {}
      },
      "source": [
        "word_to_index, index_to_word, word_to_vec_map = read_glove_vecs(\n",
        "    '/content/drive/My Drive/Colab Notebooks/data/glove.6B.50d.txt')"
      ],
      "execution_count": 0,
      "outputs": []
    },
    {
      "cell_type": "code",
      "metadata": {
        "colab_type": "code",
        "id": "g8JYDiONSf1H",
        "colab": {}
      },
      "source": [
        "def sentences_to_indices(X, word_to_index, max_len):\n",
        "    \"\"\"\n",
        "    Converts an array of sentences (strings) into an array of indices corresponding to words in the sentences.\n",
        "    The output shape should be such that it can be given to `Embedding()` (described in Figure 4). \n",
        "    \n",
        "    Arguments:\n",
        "    X -- array of sentences (strings), of shape (m, 1)\n",
        "    word_to_index -- a dictionary containing the each word mapped to its index\n",
        "    max_len -- maximum number of words in a sentence. You can assume every sentence in X is no longer than this. \n",
        "    \n",
        "    Returns:\n",
        "    X_indices -- array of indices corresponding to words in the sentences from X, of shape (m, max_len)\n",
        "    \"\"\"\n",
        "    # number of training examples\n",
        "    m = X.shape[0]\n",
        "\n",
        "    # Initialize X_indices as a numpy matrix of zeros and the correct shape (≈ 1 line)\n",
        "    X_indices = np.zeros((m, max_len))\n",
        "\n",
        "    # loop over training examples\n",
        "    for i in range(m):\n",
        "\n",
        "        # Convert the ith training sentence in lower case and split is into words. You should get a list of words.\n",
        "        sentence_words = X[i].lower().split()\n",
        "\n",
        "        # Initialize j to 0\n",
        "        j = 0\n",
        "\n",
        "        # Loop over the words of sentence_words\n",
        "        for w in sentence_words:\n",
        "            # Set the (i,j)th entry of X_indices to the index of the correct word.\n",
        "            X_indices[i, j] = word_to_index[w]\n",
        "            # Increment j to j + 1\n",
        "            j = j + 1\n",
        "\n",
        "    return X_indices"
      ],
      "execution_count": 0,
      "outputs": []
    },
    {
      "cell_type": "code",
      "metadata": {
        "colab_type": "code",
        "id": "3X8v1_NwTGTz",
        "outputId": "b5232660-cc12-4e21-9473-fefdcac7206a",
        "colab": {
          "base_uri": "https://localhost:8080/",
          "height": 85
        }
      },
      "source": [
        "X1 = np.array([\"funny love\", \"lets play baseball\", \"food is ready for you\"])\n",
        "X1_indices = sentences_to_indices(X1, word_to_index, max_len=5)\n",
        "print(\"X1 =\", X1)\n",
        "print(\"X1_indices =\", X1_indices)"
      ],
      "execution_count": 6,
      "outputs": [
        {
          "output_type": "stream",
          "text": [
            "X1 = ['funny love' 'lets play baseball' 'food is ready for you']\n",
            "X1_indices = [[155345. 226278.      0.      0.      0.]\n",
            " [220930. 286375.  69714.      0.      0.]\n",
            " [151204. 192973. 302254. 151349. 394475.]]\n"
          ],
          "name": "stdout"
        }
      ]
    },
    {
      "cell_type": "code",
      "metadata": {
        "colab_type": "code",
        "id": "eem7E-fcTIcY",
        "colab": {}
      },
      "source": [
        "def pretrained_embedding_layer(word_to_vec_map, word_to_index):\n",
        "    \"\"\"\n",
        "    Creates a PyTorch Embedding layer and loads in pre-trained GloVe 50-dimensional vectors.\n",
        "    \n",
        "    Arguments:\n",
        "    word_to_vec_map -- dictionary mapping words to their GloVe vector representation.\n",
        "    word_to_index -- dictionary mapping from words to their indices in the vocabulary (400,001 words)\n",
        "\n",
        "    Returns:\n",
        "    embedding_layer -- pretrained layer instance\n",
        "    \"\"\"\n",
        "\n",
        "    # adding 1 to fit Keras embedding (requirement)\n",
        "    vocab_len = len(word_to_index) + 1\n",
        "\n",
        "    # define dimensionality of your GloVe word vectors (= 50)\n",
        "    emb_dim = word_to_vec_map[\"cucumber\"].shape[0]\n",
        "\n",
        "    # Initialize the embedding matrix as a numpy array of zeros of shape (vocab_len, dimensions of word vectors = emb_dim)\n",
        "    emb_matrix = np.zeros((vocab_len, emb_dim))\n",
        "\n",
        "    # Set each row \"index\" of the embedding matrix to be the word vector representation of the \"index\"th word of the vocabulary\n",
        "    for word, index in word_to_index.items():\n",
        "        emb_matrix[index, :] = word_to_vec_map[word]\n",
        "\n",
        "    # Set the weights of the embedding layer to the embedding matrix. Your layer is now pretrained.\n",
        "    embedding_layer = nn.Embedding(\n",
        "        vocab_len, emb_dim, _weight=torch.tensor(emb_matrix))\n",
        "\n",
        "    return embedding_layer"
      ],
      "execution_count": 0,
      "outputs": []
    },
    {
      "cell_type": "code",
      "metadata": {
        "colab_type": "code",
        "id": "2-ENZPUIcKrA",
        "outputId": "c1e23a93-2ece-40a6-d0a6-c9651a5c136d",
        "colab": {
          "base_uri": "https://localhost:8080/",
          "height": 187
        }
      },
      "source": [
        "embedding_layer = pretrained_embedding_layer(word_to_vec_map, word_to_index)\n",
        "print(embedding_layer.weight.shape)\n",
        "print(embedding_layer.weight)"
      ],
      "execution_count": 8,
      "outputs": [
        {
          "output_type": "stream",
          "text": [
            "torch.Size([400001, 50])\n",
            "Parameter containing:\n",
            "tensor([[ 0.0000,  0.0000,  0.0000,  ...,  0.0000,  0.0000,  0.0000],\n",
            "        [-0.5840,  0.3903,  0.6528,  ..., -1.2338,  0.4672,  0.7886],\n",
            "        [-1.0588,  0.2695,  0.9463,  ...,  0.3114,  0.7984,  0.2039],\n",
            "        ...,\n",
            "        [ 0.3230,  0.3231, -0.3136,  ...,  1.8267, -0.4305, -1.1958],\n",
            "        [ 0.3871,  0.0984, -0.7386,  ...,  1.0611, -0.2125, -0.6551],\n",
            "        [-0.0198, -0.0401,  0.8689,  ...,  0.2371, -0.1819,  0.2477]],\n",
            "       dtype=torch.float64, requires_grad=True)\n"
          ],
          "name": "stdout"
        }
      ]
    },
    {
      "cell_type": "code",
      "metadata": {
        "colab_type": "code",
        "id": "YiN_kbfbksVQ",
        "colab": {}
      },
      "source": [
        "X_train, Y_train = read_csv(\n",
        "    '/content/drive/My Drive/Colab Notebooks/data/train_emoji.csv')\n",
        "X_test, Y_test = read_csv(\n",
        "    '/content/drive/My Drive/Colab Notebooks/data/test_emoji.csv')"
      ],
      "execution_count": 0,
      "outputs": []
    },
    {
      "cell_type": "code",
      "metadata": {
        "colab_type": "code",
        "id": "WoUGf4ENk_5Q",
        "colab": {}
      },
      "source": [
        "X_train_indices = sentences_to_indices(X_train, word_to_index, 10)\n",
        "Y_train_oh = convert_to_one_hot(Y_train, C=5)\n",
        "\n",
        "X_test_indices = sentences_to_indices(X_test, word_to_index, 10)\n",
        "Y_test_oh = convert_to_one_hot(Y_test, C=5)"
      ],
      "execution_count": 0,
      "outputs": []
    },
    {
      "cell_type": "code",
      "metadata": {
        "colab_type": "code",
        "id": "_VfXO0LUjgBG",
        "colab": {}
      },
      "source": [
        "train_dataset = torch.utils.data.TensorDataset(\n",
        "    torch.tensor(X_train_indices),\n",
        "    torch.tensor(Y_train_oh).type(torch.LongTensor))\n",
        "train_loader = torch.utils.data.DataLoader(train_dataset, batch_size=32)\n",
        "\n",
        "test_dataset = torch.utils.data.TensorDataset(\n",
        "    torch.tensor(X_test_indices),\n",
        "    torch.tensor(Y_test_oh).type(torch.LongTensor))\n",
        "test_loader = torch.utils.data.DataLoader(test_dataset, batch_size=32)"
      ],
      "execution_count": 0,
      "outputs": []
    },
    {
      "cell_type": "code",
      "metadata": {
        "colab_type": "code",
        "id": "GkuHDW7O3tsW",
        "colab": {}
      },
      "source": [
        "device = torch.device(\"cuda:0\" if torch.cuda.is_available() else \"cpu\")"
      ],
      "execution_count": 0,
      "outputs": []
    },
    {
      "cell_type": "code",
      "metadata": {
        "colab_type": "code",
        "id": "jrr6Ti1ucOaZ",
        "colab": {}
      },
      "source": [
        "class Model(nn.Module):\n",
        "    def __init__(self):\n",
        "        super(Model, self).__init__()\n",
        "\n",
        "        #self.embedding = nn.Embedding(400001, 50)\n",
        "        self.embedding = pretrained_embedding_layer(word_to_vec_map,\n",
        "                                                    word_to_index)\n",
        "        self.lstm = nn.LSTM(50, 256, 4, dropout=0.5, batch_first=True)\n",
        "\n",
        "        # linear and sigmoid layers\n",
        "        self.dropout = nn.Dropout(0.5)\n",
        "        self.fc0 = nn.Linear(256, 128)\n",
        "        self.fc1 = nn.Linear(128, 64)\n",
        "        self.fc2 = nn.Linear(64, 32)\n",
        "        self.fc3 = nn.Linear(32, 5)\n",
        "        self.act = nn.LogSoftmax(dim=1)\n",
        "\n",
        "    def forward(self, x):\n",
        "        #x = x.type(torch.LongTensor)\n",
        "        x = x.type(torch.cuda.LongTensor)\n",
        "        x = self.embedding(x)\n",
        "        #x = x.type(torch.FloatTensor)\n",
        "        x = x.type(torch.cuda.FloatTensor)\n",
        "        x, (hn, cn) = self.lstm(x)\n",
        "        x = self.dropout(x)\n",
        "        x = self.fc0(x)\n",
        "        x = self.fc1(x)\n",
        "        x = self.fc2(x)\n",
        "        x = self.fc3(x)\n",
        "        x = self.act(x)\n",
        "        return x"
      ],
      "execution_count": 0,
      "outputs": []
    },
    {
      "cell_type": "code",
      "metadata": {
        "colab_type": "code",
        "id": "DhuxaUkGkM2z",
        "outputId": "8e035e57-9c98-4b4f-f6e8-e2969ec83b7a",
        "colab": {
          "base_uri": "https://localhost:8080/",
          "height": 1000
        }
      },
      "source": [
        "model = Model()\n",
        "# criterion = nn.CrossEntropyLoss()\n",
        "criterion = nn.NLLLoss()\n",
        "optimizer = optim.Adam(model.parameters(), lr=0.002)\n",
        "model.to(device)\n",
        "\n",
        "epochs = 75\n",
        "trl, tsl, ac = [], [], []\n",
        "for epoch in range(epochs):\n",
        "    model.train()\n",
        "    train_losses, test_losses = 0, 0\n",
        "    for sentences, labels in train_loader:\n",
        "        sentences, labels = sentences.to(device), labels.to(device)\n",
        "        optimizer.zero_grad()\n",
        "        pred = model.forward(sentences)\n",
        "        loss = criterion(pred, labels)\n",
        "        loss.backward()\n",
        "        optimizer.step()\n",
        "        train_losses += loss.item()\n",
        "    else:\n",
        "        model.eval()\n",
        "        accuracy = 0\n",
        "        with torch.no_grad():\n",
        "            for sentences, labels in test_loader:\n",
        "                sentences, labels = sentences.to(device), labels.to(device)\n",
        "                pred = model.forward(sentences)\n",
        "                loss = criterion(pred, labels)\n",
        "                test_losses += loss.item()\n",
        "\n",
        "                ps = torch.exp(pred)\n",
        "                top_p, top_class = ps.topk(1, dim=1)\n",
        "                equals = top_class == labels.view(*top_class.shape)\n",
        "                accuracy += torch.mean(equals.type(torch.FloatTensor)).item()\n",
        "\n",
        "        print(\n",
        "            \"Epoch: {:3d}/{:03d} Training loss: {:.8f} Testing loss: {:.8f} Test accuracy: {:0.3f}\"\n",
        "            .format(epoch, epochs-1, (train_losses / len(train_loader)),\n",
        "                    (test_losses / len(test_loader)),\n",
        "                    (accuracy / len(test_loader) * 100)))\n",
        "        trl.append(train_losses / len(train_loader))\n",
        "        tsl.append(test_losses / len(test_loader))\n",
        "        ac.append(accuracy / len(test_loader) * 100)\n",
        "\n",
        "plt.figure(figsize=(20, 5))\n",
        "plt.plot(trl, c='b', label='Training loss')\n",
        "plt.plot(tsl, c='r', label='Testing loss')\n",
        "plt.xticks(np.arange(0, epochs))\n",
        "plt.title('Losses')\n",
        "plt.legend(loc='upper right')\n",
        "plt.show()\n",
        "plt.figure(figsize=(20, 5))\n",
        "plt.plot(ac)\n",
        "plt.xticks(np.arange(0, epochs))\n",
        "plt.title('Accuracy')\n",
        "plt.show()"
      ],
      "execution_count": 14,
      "outputs": [
        {
          "output_type": "stream",
          "text": [
            "Epoch:   0/074 Training loss: 2.08483562 Testing loss: 0.94158083 Test accuracy: 80.000\n",
            "Epoch:   1/074 Training loss: 0.81346623 Testing loss: 0.84434539 Test accuracy: 80.000\n",
            "Epoch:   2/074 Training loss: 0.64394981 Testing loss: 0.62041318 Test accuracy: 80.000\n",
            "Epoch:   3/074 Training loss: 0.60091531 Testing loss: 0.51219416 Test accuracy: 80.000\n",
            "Epoch:   4/074 Training loss: 0.52241712 Testing loss: 0.53914264 Test accuracy: 80.000\n",
            "Epoch:   5/074 Training loss: 0.53407826 Testing loss: 0.49921849 Test accuracy: 80.000\n",
            "Epoch:   6/074 Training loss: 0.51841460 Testing loss: 0.50887311 Test accuracy: 80.000\n",
            "Epoch:   7/074 Training loss: 0.50458432 Testing loss: 0.49020012 Test accuracy: 80.000\n",
            "Epoch:   8/074 Training loss: 0.50655153 Testing loss: 0.48806377 Test accuracy: 80.000\n",
            "Epoch:   9/074 Training loss: 0.49696723 Testing loss: 0.48757587 Test accuracy: 80.000\n",
            "Epoch:  10/074 Training loss: 0.50350198 Testing loss: 0.48456761 Test accuracy: 80.000\n",
            "Epoch:  11/074 Training loss: 0.49406306 Testing loss: 0.48432057 Test accuracy: 80.000\n",
            "Epoch:  12/074 Training loss: 0.49532629 Testing loss: 0.48385501 Test accuracy: 80.000\n",
            "Epoch:  13/074 Training loss: 0.49284019 Testing loss: 0.48316717 Test accuracy: 80.000\n",
            "Epoch:  14/074 Training loss: 0.49355856 Testing loss: 0.48128475 Test accuracy: 80.000\n",
            "Epoch:  15/074 Training loss: 0.49277054 Testing loss: 0.48129743 Test accuracy: 80.000\n",
            "Epoch:  16/074 Training loss: 0.49262535 Testing loss: 0.48050249 Test accuracy: 80.000\n",
            "Epoch:  17/074 Training loss: 0.49108876 Testing loss: 0.48021953 Test accuracy: 80.000\n",
            "Epoch:  18/074 Training loss: 0.49214522 Testing loss: 0.48015404 Test accuracy: 80.000\n",
            "Epoch:  19/074 Training loss: 0.49028558 Testing loss: 0.48015378 Test accuracy: 80.000\n",
            "Epoch:  20/074 Training loss: 0.48943052 Testing loss: 0.47873202 Test accuracy: 80.000\n",
            "Epoch:  21/074 Training loss: 0.48841442 Testing loss: 0.47719681 Test accuracy: 80.000\n",
            "Epoch:  22/074 Training loss: 0.48772708 Testing loss: 0.47677433 Test accuracy: 80.000\n",
            "Epoch:  23/074 Training loss: 0.48744283 Testing loss: 0.47659513 Test accuracy: 80.000\n",
            "Epoch:  24/074 Training loss: 0.48862973 Testing loss: 0.47901449 Test accuracy: 80.000\n",
            "Epoch:  25/074 Training loss: 0.48982872 Testing loss: 0.47630893 Test accuracy: 80.000\n",
            "Epoch:  26/074 Training loss: 0.48744406 Testing loss: 0.47780141 Test accuracy: 80.000\n",
            "Epoch:  27/074 Training loss: 0.48914013 Testing loss: 0.47532429 Test accuracy: 80.000\n",
            "Epoch:  28/074 Training loss: 0.48506254 Testing loss: 0.47648516 Test accuracy: 80.000\n",
            "Epoch:  29/074 Training loss: 0.48788643 Testing loss: 0.47579332 Test accuracy: 80.000\n",
            "Epoch:  30/074 Training loss: 0.48656419 Testing loss: 0.47627951 Test accuracy: 80.000\n",
            "Epoch:  31/074 Training loss: 0.48581626 Testing loss: 0.47504969 Test accuracy: 80.000\n",
            "Epoch:  32/074 Training loss: 0.48434913 Testing loss: 0.47567035 Test accuracy: 80.000\n",
            "Epoch:  33/074 Training loss: 0.48529375 Testing loss: 0.47600883 Test accuracy: 80.000\n",
            "Epoch:  34/074 Training loss: 0.48442403 Testing loss: 0.47838217 Test accuracy: 80.000\n",
            "Epoch:  35/074 Training loss: 0.48552111 Testing loss: 0.47677849 Test accuracy: 80.000\n",
            "Epoch:  36/074 Training loss: 0.48190851 Testing loss: 0.47690618 Test accuracy: 80.000\n",
            "Epoch:  37/074 Training loss: 0.48489678 Testing loss: 0.47383447 Test accuracy: 80.000\n",
            "Epoch:  38/074 Training loss: 0.48569686 Testing loss: 0.47387387 Test accuracy: 80.000\n",
            "Epoch:  39/074 Training loss: 0.48137274 Testing loss: 0.47545150 Test accuracy: 80.000\n",
            "Epoch:  40/074 Training loss: 0.48276866 Testing loss: 0.47561064 Test accuracy: 80.000\n",
            "Epoch:  41/074 Training loss: 0.48249604 Testing loss: 0.47451259 Test accuracy: 80.000\n",
            "Epoch:  42/074 Training loss: 0.48272796 Testing loss: 0.47291611 Test accuracy: 80.000\n",
            "Epoch:  43/074 Training loss: 0.47916771 Testing loss: 0.47409244 Test accuracy: 80.000\n",
            "Epoch:  44/074 Training loss: 0.47989580 Testing loss: 0.47735776 Test accuracy: 80.000\n",
            "Epoch:  45/074 Training loss: 0.47853499 Testing loss: 0.47240409 Test accuracy: 80.000\n",
            "Epoch:  46/074 Training loss: 0.47445388 Testing loss: 0.46847962 Test accuracy: 80.000\n",
            "Epoch:  47/074 Training loss: 0.46387208 Testing loss: 0.45839730 Test accuracy: 80.000\n",
            "Epoch:  48/074 Training loss: 0.43279731 Testing loss: 0.45811541 Test accuracy: 81.562\n",
            "Epoch:  49/074 Training loss: 0.40927368 Testing loss: 0.48194276 Test accuracy: 81.562\n",
            "Epoch:  50/074 Training loss: 0.40724809 Testing loss: 0.49092741 Test accuracy: 81.250\n",
            "Epoch:  51/074 Training loss: 0.40374140 Testing loss: 0.47006133 Test accuracy: 80.521\n",
            "Epoch:  52/074 Training loss: 0.38876900 Testing loss: 0.48023821 Test accuracy: 80.937\n",
            "Epoch:  53/074 Training loss: 0.39237149 Testing loss: 0.50928885 Test accuracy: 80.833\n",
            "Epoch:  54/074 Training loss: 0.39291039 Testing loss: 0.50219922 Test accuracy: 81.354\n",
            "Epoch:  55/074 Training loss: 0.36543491 Testing loss: 0.49922256 Test accuracy: 81.042\n",
            "Epoch:  56/074 Training loss: 0.38473591 Testing loss: 0.52145408 Test accuracy: 81.667\n",
            "Epoch:  57/074 Training loss: 0.37816926 Testing loss: 0.48293868 Test accuracy: 80.937\n",
            "Epoch:  58/074 Training loss: 0.37334427 Testing loss: 0.51266663 Test accuracy: 80.208\n",
            "Epoch:  59/074 Training loss: 0.37517957 Testing loss: 0.51820941 Test accuracy: 80.937\n",
            "Epoch:  60/074 Training loss: 0.35352426 Testing loss: 0.52294128 Test accuracy: 80.521\n",
            "Epoch:  61/074 Training loss: 0.34349526 Testing loss: 0.57329276 Test accuracy: 78.854\n",
            "Epoch:  62/074 Training loss: 0.33866515 Testing loss: 0.60497850 Test accuracy: 74.062\n",
            "Epoch:  63/074 Training loss: 0.33330480 Testing loss: 0.64047229 Test accuracy: 78.125\n",
            "Epoch:  64/074 Training loss: 0.35603973 Testing loss: 0.52155358 Test accuracy: 79.167\n",
            "Epoch:  65/074 Training loss: 0.33768584 Testing loss: 0.58300078 Test accuracy: 78.958\n",
            "Epoch:  66/074 Training loss: 0.32177562 Testing loss: 0.60502377 Test accuracy: 78.854\n",
            "Epoch:  67/074 Training loss: 0.32250579 Testing loss: 0.70635259 Test accuracy: 78.646\n",
            "Epoch:  68/074 Training loss: 0.30567203 Testing loss: 0.60331793 Test accuracy: 79.167\n",
            "Epoch:  69/074 Training loss: 0.34961922 Testing loss: 0.62479812 Test accuracy: 77.187\n",
            "Epoch:  70/074 Training loss: 0.32249061 Testing loss: 0.64272285 Test accuracy: 78.438\n",
            "Epoch:  71/074 Training loss: 0.29966039 Testing loss: 0.66675520 Test accuracy: 79.271\n",
            "Epoch:  72/074 Training loss: 0.29990717 Testing loss: 0.64974147 Test accuracy: 80.000\n",
            "Epoch:  73/074 Training loss: 0.30433584 Testing loss: 0.66754603 Test accuracy: 78.542\n",
            "Epoch:  74/074 Training loss: 0.29012872 Testing loss: 0.62505153 Test accuracy: 77.708\n"
          ],
          "name": "stdout"
        },
        {
          "output_type": "display_data",
          "data": {
            "image/png": "[encoded data removed]",
            "text/plain": [
              "<Figure size 1440x360 with 1 Axes>"
            ]
          },
          "metadata": {
            "tags": []
          }
        },
        {
          "output_type": "display_data",
          "data": {
            "image/png": "[encoded data removed]",
            "text/plain": [
              "<Figure size 1440x360 with 1 Axes>"
            ]
          },
          "metadata": {
            "tags": []
          }
        }
      ]
    }
  ]
}