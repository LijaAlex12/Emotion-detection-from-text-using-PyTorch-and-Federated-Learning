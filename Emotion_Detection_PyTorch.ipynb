{
  "nbformat": 4,
  "nbformat_minor": 0,
  "metadata": {
    "accelerator": "GPU",
    "colab": {
      "name": "Emotion Detection - PyTorch.ipynb",
      "version": "0.3.2",
      "provenance": [],
      "collapsed_sections": []
    },
    "kernelspec": {
      "name": "python3",
      "display_name": "Python 3"
    },
    "language_info": {
      "codemirror_mode": {
        "name": "ipython",
        "version": 3
      },
      "file_extension": ".py",
      "mimetype": "text/x-python",
      "name": "python",
      "nbconvert_exporter": "python",
      "pygments_lexer": "ipython3",
      "version": "3.7.1"
    }
  },
  "cells": [
    {
      "cell_type": "code",
      "metadata": {
        "colab_type": "code",
        "id": "oZTixQJXSZJb",
        "colab": {}
      },
      "source": [
        "import csv\n",
        "import torch\n",
        "import numpy as np\n",
        "import torchvision\n",
        "import pandas as pd\n",
        "import torch.nn as nn\n",
        "import torch.optim as optim\n",
        "import matplotlib.pyplot as plt\n",
        "import torch.nn.functional as F"
      ],
      "execution_count": 0,
      "outputs": []
    },
    {
      "cell_type": "code",
      "metadata": {
        "colab_type": "code",
        "id": "FkfgAsDZTrrl",
        "colab": {}
      },
      "source": [
        "from google.colab import drive\n",
        "drive.mount('/content/drive')"
      ],
      "execution_count": 0,
      "outputs": []
    },
    {
      "cell_type": "code",
      "metadata": {
        "colab_type": "code",
        "id": "YsIlgQ_uTada",
        "colab": {}
      },
      "source": [
        "def read_glove_vecs(glove_file):\n",
        "    with open(glove_file, 'r') as f:\n",
        "        words = set()\n",
        "        word_to_vec_map = {}\n",
        "        for line in f:\n",
        "            line = line.strip().split()\n",
        "            curr_word = line[0]\n",
        "            words.add(curr_word)\n",
        "            word_to_vec_map[curr_word] = np.array(line[1:], dtype=np.float64)\n",
        "\n",
        "        i = 1\n",
        "        words_to_index = {}\n",
        "        index_to_words = {}\n",
        "        for w in sorted(words):\n",
        "            words_to_index[w] = i\n",
        "            index_to_words[i] = w\n",
        "            i = i + 1\n",
        "    return words_to_index, index_to_words, word_to_vec_map\n",
        "\n",
        "\n",
        "def read_csv(filename):\n",
        "    phrase = []\n",
        "    label = []\n",
        "\n",
        "    with open(filename) as csvDataFile:\n",
        "        csvReader = csv.reader(csvDataFile)\n",
        "\n",
        "        for row in csvReader:\n",
        "            phrase.append(row[0])\n",
        "            label.append(row[1])\n",
        "\n",
        "    X = np.asarray(phrase)\n",
        "    Y = np.asarray(label, dtype=int)\n",
        "\n",
        "    return X, Y\n",
        "\n",
        "\n",
        "def convert_to_one_hot(Y, C):\n",
        "    Y = np.eye(C)[Y.reshape(-1)]\n",
        "    return Y"
      ],
      "execution_count": 0,
      "outputs": []
    },
    {
      "cell_type": "code",
      "metadata": {
        "colab_type": "code",
        "id": "M-xtHsP6TimU",
        "colab": {}
      },
      "source": [
        "word_to_index, index_to_word, word_to_vec_map = read_glove_vecs(\n",
        "    '/content/drive/My Drive/Colab Notebooks/data/glove.6B.50d.txt')"
      ],
      "execution_count": 0,
      "outputs": []
    },
    {
      "cell_type": "code",
      "metadata": {
        "colab_type": "code",
        "id": "g8JYDiONSf1H",
        "colab": {}
      },
      "source": [
        "def sentences_to_indices(X, word_to_index, max_len):\n",
        "    \"\"\"\n",
        "    Converts an array of sentences (strings) into an array of indices corresponding to words in the sentences.\n",
        "    The output shape should be such that it can be given to `Embedding()` (described in Figure 4). \n",
        "    \n",
        "    Arguments:\n",
        "    X -- array of sentences (strings), of shape (m, 1)\n",
        "    word_to_index -- a dictionary containing the each word mapped to its index\n",
        "    max_len -- maximum number of words in a sentence. You can assume every sentence in X is no longer than this. \n",
        "    \n",
        "    Returns:\n",
        "    X_indices -- array of indices corresponding to words in the sentences from X, of shape (m, max_len)\n",
        "    \"\"\"\n",
        "    # number of training examples\n",
        "    m = X.shape[0]\n",
        "\n",
        "    # Initialize X_indices as a numpy matrix of zeros and the correct shape (≈ 1 line)\n",
        "    X_indices = np.zeros((m, max_len))\n",
        "\n",
        "    # loop over training examples\n",
        "    for i in range(m):\n",
        "\n",
        "        # Convert the ith training sentence in lower case and split is into words. You should get a list of words.\n",
        "        sentence_words = X[i].lower().split()\n",
        "\n",
        "        # Initialize j to 0\n",
        "        j = 0\n",
        "\n",
        "        # Loop over the words of sentence_words\n",
        "        for w in sentence_words:\n",
        "            # Set the (i,j)th entry of X_indices to the index of the correct word.\n",
        "            X_indices[i, j] = word_to_index[w]\n",
        "            # Increment j to j + 1\n",
        "            j = j + 1\n",
        "\n",
        "    return X_indices"
      ],
      "execution_count": 0,
      "outputs": []
    },
    {
      "cell_type": "code",
      "metadata": {
        "colab_type": "code",
        "id": "3X8v1_NwTGTz",
        "outputId": "279b4d02-bb87-4ac9-f83b-e9744aed974a",
        "colab": {
          "base_uri": "https://localhost:8080/",
          "height": 85
        }
      },
      "source": [
        "X1 = np.array([\"funny love\", \"lets play baseball\", \"food is ready for you\"])\n",
        "X1_indices = sentences_to_indices(X1, word_to_index, max_len=5)\n",
        "print(\"X1 =\", X1)\n",
        "print(\"X1_indices =\", X1_indices)"
      ],
      "execution_count": 6,
      "outputs": [
        {
          "output_type": "stream",
          "text": [
            "X1 = ['funny love' 'lets play baseball' 'food is ready for you']\n",
            "X1_indices = [[155345. 226278.      0.      0.      0.]\n",
            " [220930. 286375.  69714.      0.      0.]\n",
            " [151204. 192973. 302254. 151349. 394475.]]\n"
          ],
          "name": "stdout"
        }
      ]
    },
    {
      "cell_type": "code",
      "metadata": {
        "colab_type": "code",
        "id": "eem7E-fcTIcY",
        "colab": {}
      },
      "source": [
        "def pretrained_embedding_layer(word_to_vec_map, word_to_index):\n",
        "    \"\"\"\n",
        "    Creates a PyTorch Embedding layer and loads in pre-trained GloVe 50-dimensional vectors.\n",
        "    \n",
        "    Arguments:\n",
        "    word_to_vec_map -- dictionary mapping words to their GloVe vector representation.\n",
        "    word_to_index -- dictionary mapping from words to their indices in the vocabulary (400,001 words)\n",
        "\n",
        "    Returns:\n",
        "    embedding_layer -- pretrained layer instance\n",
        "    \"\"\"\n",
        "\n",
        "    # adding 1 to fit Keras embedding (requirement)\n",
        "    vocab_len = len(word_to_index) + 1\n",
        "\n",
        "    # define dimensionality of your GloVe word vectors (= 50)\n",
        "    emb_dim = word_to_vec_map[\"cucumber\"].shape[0]\n",
        "\n",
        "    # Initialize the embedding matrix as a numpy array of zeros of shape (vocab_len, dimensions of word vectors = emb_dim)\n",
        "    emb_matrix = np.zeros((vocab_len, emb_dim))\n",
        "\n",
        "    # Set each row \"index\" of the embedding matrix to be the word vector representation of the \"index\"th word of the vocabulary\n",
        "    for word, index in word_to_index.items():\n",
        "        emb_matrix[index, :] = word_to_vec_map[word]\n",
        "\n",
        "    # Set the weights of the embedding layer to the embedding matrix. Your layer is now pretrained.\n",
        "    embedding_layer = nn.Embedding(\n",
        "        vocab_len, emb_dim, _weight=torch.tensor(emb_matrix))\n",
        "\n",
        "    return embedding_layer"
      ],
      "execution_count": 0,
      "outputs": []
    },
    {
      "cell_type": "code",
      "metadata": {
        "colab_type": "code",
        "id": "2-ENZPUIcKrA",
        "outputId": "ec77cead-90d2-48b6-8c9c-13a036edba10",
        "colab": {
          "base_uri": "https://localhost:8080/",
          "height": 187
        }
      },
      "source": [
        "embedding_layer = pretrained_embedding_layer(word_to_vec_map, word_to_index)\n",
        "print(embedding_layer.weight.shape)\n",
        "print(embedding_layer.weight)"
      ],
      "execution_count": 8,
      "outputs": [
        {
          "output_type": "stream",
          "text": [
            "torch.Size([400001, 50])\n",
            "Parameter containing:\n",
            "tensor([[ 0.0000,  0.0000,  0.0000,  ...,  0.0000,  0.0000,  0.0000],\n",
            "        [-0.5840,  0.3903,  0.6528,  ..., -1.2338,  0.4672,  0.7886],\n",
            "        [-1.0588,  0.2695,  0.9463,  ...,  0.3114,  0.7984,  0.2039],\n",
            "        ...,\n",
            "        [ 0.3230,  0.3231, -0.3136,  ...,  1.8267, -0.4305, -1.1958],\n",
            "        [ 0.3871,  0.0984, -0.7386,  ...,  1.0611, -0.2125, -0.6551],\n",
            "        [-0.0198, -0.0401,  0.8689,  ...,  0.2371, -0.1819,  0.2477]],\n",
            "       dtype=torch.float64, requires_grad=True)\n"
          ],
          "name": "stdout"
        }
      ]
    },
    {
      "cell_type": "code",
      "metadata": {
        "colab_type": "code",
        "id": "YiN_kbfbksVQ",
        "colab": {}
      },
      "source": [
        "X_train, Y_train = read_csv(\n",
        "    '/content/drive/My Drive/Colab Notebooks/data/train_emoji.csv')\n",
        "X_test, Y_test = read_csv(\n",
        "    '/content/drive/My Drive/Colab Notebooks/data/test_emoji.csv')"
      ],
      "execution_count": 0,
      "outputs": []
    },
    {
      "cell_type": "code",
      "metadata": {
        "colab_type": "code",
        "id": "WoUGf4ENk_5Q",
        "colab": {}
      },
      "source": [
        "X_train_indices = sentences_to_indices(X_train, word_to_index, 10)\n",
        "# Y_train_oh = convert_to_one_hot(Y_train, C=5)\n",
        "\n",
        "X_test_indices = sentences_to_indices(X_test, word_to_index, 10)\n",
        "# Y_test_oh = convert_to_one_hot(Y_test, C=5)"
      ],
      "execution_count": 0,
      "outputs": []
    },
    {
      "cell_type": "code",
      "metadata": {
        "colab_type": "code",
        "id": "_VfXO0LUjgBG",
        "colab": {}
      },
      "source": [
        "train_dataset = torch.utils.data.TensorDataset(\n",
        "    torch.tensor(X_train_indices),\n",
        "    torch.tensor(Y_train).type(torch.LongTensor))\n",
        "train_loader = torch.utils.data.DataLoader(train_dataset, batch_size=32)\n",
        "\n",
        "test_dataset = torch.utils.data.TensorDataset(\n",
        "    torch.tensor(X_test_indices),\n",
        "    torch.tensor(Y_test).type(torch.LongTensor))\n",
        "test_loader = torch.utils.data.DataLoader(test_dataset, batch_size=32)"
      ],
      "execution_count": 0,
      "outputs": []
    },
    {
      "cell_type": "code",
      "metadata": {
        "colab_type": "code",
        "id": "GkuHDW7O3tsW",
        "colab": {}
      },
      "source": [
        "device = torch.device(\"cuda:0\" if torch.cuda.is_available() else \"cpu\")"
      ],
      "execution_count": 0,
      "outputs": []
    },
    {
      "cell_type": "code",
      "metadata": {
        "colab_type": "code",
        "id": "jrr6Ti1ucOaZ",
        "colab": {}
      },
      "source": [
        "class Model(nn.Module):\n",
        "    def __init__(self):\n",
        "        super(Model, self).__init__()\n",
        "\n",
        "#         self.embedding = nn.Embedding(400001, 50)\n",
        "        self.embedding = pretrained_embedding_layer(word_to_vec_map,\n",
        "                                                    word_to_index)\n",
        "        self.lstm = nn.LSTM(50, 256, 2, dropout=0.5, batch_first=True)\n",
        "\n",
        "        # linear and sigmoid layers\n",
        "        self.dropout = nn.Dropout(0.5)\n",
        "        self.fc = nn.Linear(256, 5)\n",
        "        self.act = nn.Softmax(dim=1)\n",
        "#         self.act = nn.LogSoftmax(dim=1)\n",
        "\n",
        "    def forward(self, x):\n",
        "        #x = x.type(torch.LongTensor)\n",
        "        x = x.type(torch.cuda.LongTensor)\n",
        "        x = self.embedding(x)\n",
        "        #x = x.type(torch.FloatTensor)\n",
        "        x = x.type(torch.cuda.FloatTensor)\n",
        "        x, (hn, cn) = self.lstm(x)\n",
        "        x = x[:, -1, :]\n",
        "        x = self.dropout(x)\n",
        "        x = self.fc(x)\n",
        "        x = self.act(x)\n",
        "        return x"
      ],
      "execution_count": 0,
      "outputs": []
    },
    {
      "cell_type": "code",
      "metadata": {
        "colab_type": "code",
        "id": "DhuxaUkGkM2z",
        "outputId": "21727b00-9d48-4925-8947-74244d66fcdb",
        "colab": {
          "base_uri": "https://localhost:8080/",
          "height": 1000
        }
      },
      "source": [
        "model = Model()\n",
        "criterion = nn.CrossEntropyLoss()\n",
        "# criterion = nn.NLLLoss()\n",
        "optimizer = optim.Adam(model.parameters(), lr=0.001)\n",
        "model.to(device)\n",
        "\n",
        "epochs = 50\n",
        "trl, tsl, ac = [], [], []\n",
        "for epoch in range(epochs):\n",
        "    model.train()\n",
        "    train_losses, test_losses = 0, 0\n",
        "    for sentences, labels in train_loader:\n",
        "        sentences, labels = sentences.to(device), labels.to(device)\n",
        "        optimizer.zero_grad()\n",
        "        pred = model.forward(sentences)\n",
        "        loss = criterion(pred, labels)\n",
        "        loss.backward()\n",
        "        optimizer.step()\n",
        "        train_losses += loss.item()\n",
        "    else:\n",
        "        model.eval()\n",
        "        accuracy = 0\n",
        "        with torch.no_grad():\n",
        "            for sentences, labels in test_loader:\n",
        "                sentences, labels = sentences.to(device), labels.to(device)\n",
        "                pred = model.forward(sentences)\n",
        "                loss = criterion(pred, labels)\n",
        "                test_losses += loss.item()\n",
        "\n",
        "                ps = torch.exp(pred)\n",
        "                top_p, top_class = ps.topk(1, dim=1)\n",
        "                equals = top_class == labels.view(*top_class.shape)\n",
        "                accuracy += torch.mean(equals.type(torch.FloatTensor)).item()\n",
        "\n",
        "        print(\n",
        "            \"Epoch: {:3d}/{:03d} Training loss: {:.8f} Testing loss: {:.8f} Test accuracy: {:0.3f}\"\n",
        "            .format(epoch, epochs-1, (train_losses / len(train_loader)),\n",
        "                    (test_losses / len(test_loader)),\n",
        "                    (accuracy / len(test_loader) * 100)))\n",
        "        trl.append(train_losses / len(train_loader))\n",
        "        tsl.append(test_losses / len(test_loader))\n",
        "        ac.append(accuracy / len(test_loader) * 100)\n",
        "\n",
        "plt.figure(figsize=(20, 5))\n",
        "plt.plot(trl, c='b', label='Training loss')\n",
        "plt.plot(tsl, c='r', label='Testing loss')\n",
        "plt.xticks(np.arange(0, epochs))\n",
        "plt.title('Losses')\n",
        "plt.legend(loc='upper right')\n",
        "plt.show()\n",
        "plt.figure(figsize=(20, 5))\n",
        "plt.plot(ac)\n",
        "plt.xticks(np.arange(0, epochs))\n",
        "plt.title('Accuracy')\n",
        "plt.show()"
      ],
      "execution_count": 15,
      "outputs": [
        {
          "output_type": "stream",
          "text": [
            "Epoch:   0/049 Training loss: 1.60750148 Testing loss: 1.59998757 Test accuracy: 29.688\n",
            "Epoch:   1/049 Training loss: 1.59290931 Testing loss: 1.56922442 Test accuracy: 26.042\n",
            "Epoch:   2/049 Training loss: 1.56900544 Testing loss: 1.55112851 Test accuracy: 26.042\n",
            "Epoch:   3/049 Training loss: 1.57372983 Testing loss: 1.53617483 Test accuracy: 35.417\n",
            "Epoch:   4/049 Training loss: 1.54914029 Testing loss: 1.52974814 Test accuracy: 35.938\n",
            "Epoch:   5/049 Training loss: 1.52451634 Testing loss: 1.52666277 Test accuracy: 35.938\n",
            "Epoch:   6/049 Training loss: 1.48056242 Testing loss: 1.53889740 Test accuracy: 32.812\n",
            "Epoch:   7/049 Training loss: 1.46266229 Testing loss: 1.53738922 Test accuracy: 35.417\n",
            "Epoch:   8/049 Training loss: 1.44245982 Testing loss: 1.53422099 Test accuracy: 36.458\n",
            "Epoch:   9/049 Training loss: 1.45087709 Testing loss: 1.53513992 Test accuracy: 35.417\n",
            "Epoch:  10/049 Training loss: 1.40904922 Testing loss: 1.50260091 Test accuracy: 34.896\n",
            "Epoch:  11/049 Training loss: 1.38173676 Testing loss: 1.49518418 Test accuracy: 41.146\n",
            "Epoch:  12/049 Training loss: 1.36335917 Testing loss: 1.47272509 Test accuracy: 40.625\n",
            "Epoch:  13/049 Training loss: 1.37379255 Testing loss: 1.47290933 Test accuracy: 41.667\n",
            "Epoch:  14/049 Training loss: 1.31387951 Testing loss: 1.49695218 Test accuracy: 39.062\n",
            "Epoch:  15/049 Training loss: 1.31204944 Testing loss: 1.46217096 Test accuracy: 41.146\n",
            "Epoch:  16/049 Training loss: 1.26968250 Testing loss: 1.48758954 Test accuracy: 41.146\n",
            "Epoch:  17/049 Training loss: 1.26975644 Testing loss: 1.50048697 Test accuracy: 35.938\n",
            "Epoch:  18/049 Training loss: 1.32187281 Testing loss: 1.46253228 Test accuracy: 44.271\n",
            "Epoch:  19/049 Training loss: 1.21634736 Testing loss: 1.43629271 Test accuracy: 45.312\n",
            "Epoch:  20/049 Training loss: 1.20507748 Testing loss: 1.42661369 Test accuracy: 43.229\n",
            "Epoch:  21/049 Training loss: 1.18725510 Testing loss: 1.42075187 Test accuracy: 45.312\n",
            "Epoch:  22/049 Training loss: 1.17528419 Testing loss: 1.40156937 Test accuracy: 50.521\n",
            "Epoch:  23/049 Training loss: 1.14405714 Testing loss: 1.37712950 Test accuracy: 52.083\n",
            "Epoch:  24/049 Training loss: 1.10534865 Testing loss: 1.37695992 Test accuracy: 53.646\n",
            "Epoch:  25/049 Training loss: 1.06850566 Testing loss: 1.37221235 Test accuracy: 55.208\n",
            "Epoch:  26/049 Training loss: 1.03478068 Testing loss: 1.38445497 Test accuracy: 51.042\n",
            "Epoch:  27/049 Training loss: 1.02531703 Testing loss: 1.40178663 Test accuracy: 47.396\n",
            "Epoch:  28/049 Training loss: 1.05880409 Testing loss: 1.49331552 Test accuracy: 39.583\n",
            "Epoch:  29/049 Training loss: 1.22427917 Testing loss: 1.42054737 Test accuracy: 47.917\n",
            "Epoch:  30/049 Training loss: 1.06985103 Testing loss: 1.40790534 Test accuracy: 49.479\n",
            "Epoch:  31/049 Training loss: 1.07940984 Testing loss: 1.40152681 Test accuracy: 48.958\n",
            "Epoch:  32/049 Training loss: 1.24117694 Testing loss: 1.43080020 Test accuracy: 46.875\n",
            "Epoch:  33/049 Training loss: 1.22688739 Testing loss: 1.41416317 Test accuracy: 47.396\n",
            "Epoch:  34/049 Training loss: 1.21000156 Testing loss: 1.34319210 Test accuracy: 56.771\n",
            "Epoch:  35/049 Training loss: 1.12263024 Testing loss: 1.36096132 Test accuracy: 52.604\n",
            "Epoch:  36/049 Training loss: 1.04516320 Testing loss: 1.31018293 Test accuracy: 59.896\n",
            "Epoch:  37/049 Training loss: 1.00707114 Testing loss: 1.26385927 Test accuracy: 64.062\n",
            "Epoch:  38/049 Training loss: 1.03273451 Testing loss: 1.26995403 Test accuracy: 61.979\n",
            "Epoch:  39/049 Training loss: 1.00994869 Testing loss: 1.28499848 Test accuracy: 61.458\n",
            "Epoch:  40/049 Training loss: 0.98648639 Testing loss: 1.30809534 Test accuracy: 60.938\n",
            "Epoch:  41/049 Training loss: 0.98790826 Testing loss: 1.29834259 Test accuracy: 63.021\n",
            "Epoch:  42/049 Training loss: 0.98722073 Testing loss: 1.26270527 Test accuracy: 63.542\n",
            "Epoch:  43/049 Training loss: 0.96544824 Testing loss: 1.27398032 Test accuracy: 61.979\n",
            "Epoch:  44/049 Training loss: 0.96622707 Testing loss: 1.27196354 Test accuracy: 63.542\n",
            "Epoch:  45/049 Training loss: 0.95660266 Testing loss: 1.25778377 Test accuracy: 65.625\n",
            "Epoch:  46/049 Training loss: 0.95417444 Testing loss: 1.26408750 Test accuracy: 65.625\n",
            "Epoch:  47/049 Training loss: 0.94537920 Testing loss: 1.27291644 Test accuracy: 64.062\n",
            "Epoch:  48/049 Training loss: 0.94567122 Testing loss: 1.23654819 Test accuracy: 66.146\n",
            "Epoch:  49/049 Training loss: 0.94419231 Testing loss: 1.22131938 Test accuracy: 68.229\n"
          ],
          "name": "stdout"
        },
        {
          "output_type": "display_data",
          "data": {
            "image/png": "[encoded data removed]",
            "text/plain": [
              "<Figure size 1440x360 with 1 Axes>"
            ]
          },
          "metadata": {
            "tags": []
          }
        },
        {
          "output_type": "display_data",
          "data": {
            "image/png": "[encoded data removed]",
            "text/plain": [
              "<Figure size 1440x360 with 1 Axes>"
            ]
          },
          "metadata": {
            "tags": []
          }
        }
      ]
    },
    {
      "cell_type": "code",
      "metadata": {
        "id": "AoKfgf2wtZTX",
        "colab_type": "code",
        "colab": {}
      },
      "source": [
        ""
      ],
      "execution_count": 0,
      "outputs": []
    }
  ]
}
